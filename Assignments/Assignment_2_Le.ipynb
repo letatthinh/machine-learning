{
  "metadata": {
    "kernelspec": {
      "name": "python",
      "display_name": "Python (Pyodide)",
      "language": "python"
    },
    "language_info": {
      "codemirror_mode": {
        "name": "python",
        "version": 3
      },
      "file_extension": ".py",
      "mimetype": "text/x-python",
      "name": "python",
      "nbconvert_exporter": "python",
      "pygments_lexer": "ipython3",
      "version": "3.8"
    }
  },
  "nbformat_minor": 5,
  "nbformat": 4,
  "cells": [
    {
      "id": "628a107c5de593dc",
      "cell_type": "markdown",
      "source": "Assignment 2 - K-Means Clustering<br>\nAuthor: Thinh Le<br>\nDate: February 4, 2025",
      "metadata": {}
    },
    {
      "id": "a5f01b84",
      "cell_type": "markdown",
      "source": "# Introduction\n\nUsing the Python code provided by the Machine Learning in Action book (chapter 10), adapt the code to perform a K-Means Clustering on the Palmer Penguin dataset. Attempt to display a graph using the Elbow Method to determine an appropriate K. Document each step of the code to demonstrate you understand what each block of code does. Feel free to experiment with alternative measurements.",
      "metadata": {}
    },
    {
      "id": "1b954555",
      "cell_type": "markdown",
      "source": "# Notes\n\n- In this exercise, I will predict the number of penguins species by body mass and flipper length using the Elbow Method.\n- The number of clusters (k) to test will be from 1 to 10.",
      "metadata": {}
    },
    {
      "id": "dab71a59092c0d42",
      "cell_type": "markdown",
      "source": "# Solution",
      "metadata": {}
    },
    {
      "id": "3646e7ad799f9b42",
      "cell_type": "markdown",
      "source": "## Step 1: Import libraries",
      "metadata": {}
    },
    {
      "id": "85b4a8a3f6f3e86a",
      "cell_type": "code",
      "source": "import pandas as pd             # Working with data\nimport numpy as np              # Working with arrays, vectors, lists\nimport matplotlib.pyplot as plt # Data visualization",
      "metadata": {
        "jupyter": {
          "is_executing": true
        },
        "trusted": true
      },
      "outputs": [
        {
          "name": "stderr",
          "output_type": "stream",
          "text": "Matplotlib is building the font cache; this may take a moment.\n"
        }
      ],
      "execution_count": 1
    },
    {
      "id": "99e93b616c564c46",
      "cell_type": "markdown",
      "source": "## Step 2: Read the dataset and extract flipper length and body mass data",
      "metadata": {}
    },
    {
      "id": "eee7ceb8-517e-4306-9690-33e13cd25581",
      "cell_type": "markdown",
      "source": "First, read the dataset",
      "metadata": {}
    },
    {
      "id": "2763364eeb8502c5",
      "cell_type": "code",
      "source": "# Read the Palmer Penguin cleaned dataset\n# Note: place the dataset in the same folder with the jupyter notebook.\npenguins_df = pd.read_csv('penguins_clean.csv')\npenguins_df",
      "metadata": {
        "ExecuteTime": {
          "end_time": "2025-02-04T21:46:36.486727Z",
          "start_time": "2025-02-04T21:46:35.908435Z"
        },
        "trusted": true
      },
      "outputs": [
        {
          "execution_count": 2,
          "output_type": "execute_result",
          "data": {
            "text/plain": "       species     island  bill_length_mm  bill_depth_mm  flipper_length_mm  \\\n0       Adelie  Torgersen            39.1           18.7              181.0   \n1       Adelie  Torgersen            39.5           17.4              186.0   \n2       Adelie  Torgersen            40.3           18.0              195.0   \n3       Adelie  Torgersen             NaN            NaN                NaN   \n4       Adelie  Torgersen            36.7           19.3              193.0   \n..         ...        ...             ...            ...                ...   \n339  Chinstrap      Dream            55.8           19.8              207.0   \n340  Chinstrap      Dream            43.5           18.1              202.0   \n341  Chinstrap      Dream            49.6           18.2              193.0   \n342  Chinstrap      Dream            50.8           19.0              210.0   \n343  Chinstrap      Dream            50.2           18.7              198.0   \n\n     body_mass_g     sex  year  \n0         3750.0    male  2007  \n1         3800.0  female  2007  \n2         3250.0  female  2007  \n3            NaN     NaN  2007  \n4         3450.0  female  2007  \n..           ...     ...   ...  \n339       4000.0    male  2009  \n340       3400.0  female  2009  \n341       3775.0    male  2009  \n342       4100.0    male  2009  \n343       3775.0  female  2009  \n\n[344 rows x 8 columns]",
            "text/html": "<div>\n<style scoped>\n    .dataframe tbody tr th:only-of-type {\n        vertical-align: middle;\n    }\n\n    .dataframe tbody tr th {\n        vertical-align: top;\n    }\n\n    .dataframe thead th {\n        text-align: right;\n    }\n</style>\n<table border=\"1\" class=\"dataframe\">\n  <thead>\n    <tr style=\"text-align: right;\">\n      <th></th>\n      <th>species</th>\n      <th>island</th>\n      <th>bill_length_mm</th>\n      <th>bill_depth_mm</th>\n      <th>flipper_length_mm</th>\n      <th>body_mass_g</th>\n      <th>sex</th>\n      <th>year</th>\n    </tr>\n  </thead>\n  <tbody>\n    <tr>\n      <th>0</th>\n      <td>Adelie</td>\n      <td>Torgersen</td>\n      <td>39.1</td>\n      <td>18.7</td>\n      <td>181.0</td>\n      <td>3750.0</td>\n      <td>male</td>\n      <td>2007</td>\n    </tr>\n    <tr>\n      <th>1</th>\n      <td>Adelie</td>\n      <td>Torgersen</td>\n      <td>39.5</td>\n      <td>17.4</td>\n      <td>186.0</td>\n      <td>3800.0</td>\n      <td>female</td>\n      <td>2007</td>\n    </tr>\n    <tr>\n      <th>2</th>\n      <td>Adelie</td>\n      <td>Torgersen</td>\n      <td>40.3</td>\n      <td>18.0</td>\n      <td>195.0</td>\n      <td>3250.0</td>\n      <td>female</td>\n      <td>2007</td>\n    </tr>\n    <tr>\n      <th>3</th>\n      <td>Adelie</td>\n      <td>Torgersen</td>\n      <td>NaN</td>\n      <td>NaN</td>\n      <td>NaN</td>\n      <td>NaN</td>\n      <td>NaN</td>\n      <td>2007</td>\n    </tr>\n    <tr>\n      <th>4</th>\n      <td>Adelie</td>\n      <td>Torgersen</td>\n      <td>36.7</td>\n      <td>19.3</td>\n      <td>193.0</td>\n      <td>3450.0</td>\n      <td>female</td>\n      <td>2007</td>\n    </tr>\n    <tr>\n      <th>...</th>\n      <td>...</td>\n      <td>...</td>\n      <td>...</td>\n      <td>...</td>\n      <td>...</td>\n      <td>...</td>\n      <td>...</td>\n      <td>...</td>\n    </tr>\n    <tr>\n      <th>339</th>\n      <td>Chinstrap</td>\n      <td>Dream</td>\n      <td>55.8</td>\n      <td>19.8</td>\n      <td>207.0</td>\n      <td>4000.0</td>\n      <td>male</td>\n      <td>2009</td>\n    </tr>\n    <tr>\n      <th>340</th>\n      <td>Chinstrap</td>\n      <td>Dream</td>\n      <td>43.5</td>\n      <td>18.1</td>\n      <td>202.0</td>\n      <td>3400.0</td>\n      <td>female</td>\n      <td>2009</td>\n    </tr>\n    <tr>\n      <th>341</th>\n      <td>Chinstrap</td>\n      <td>Dream</td>\n      <td>49.6</td>\n      <td>18.2</td>\n      <td>193.0</td>\n      <td>3775.0</td>\n      <td>male</td>\n      <td>2009</td>\n    </tr>\n    <tr>\n      <th>342</th>\n      <td>Chinstrap</td>\n      <td>Dream</td>\n      <td>50.8</td>\n      <td>19.0</td>\n      <td>210.0</td>\n      <td>4100.0</td>\n      <td>male</td>\n      <td>2009</td>\n    </tr>\n    <tr>\n      <th>343</th>\n      <td>Chinstrap</td>\n      <td>Dream</td>\n      <td>50.2</td>\n      <td>18.7</td>\n      <td>198.0</td>\n      <td>3775.0</td>\n      <td>female</td>\n      <td>2009</td>\n    </tr>\n  </tbody>\n</table>\n<p>344 rows × 8 columns</p>\n</div>"
          },
          "metadata": {}
        }
      ],
      "execution_count": 2
    },
    {
      "id": "33c67eb7-b6b4-434b-954d-6c06542053fa",
      "cell_type": "markdown",
      "source": "Drop NAs from the penguins_df",
      "metadata": {}
    },
    {
      "id": "c44a7190-a54f-46b4-b555-8077478eca91",
      "cell_type": "code",
      "source": "# Drop NAs from the penguins_df\npenguins_df.dropna(inplace=True)\n# inplace=True: Drop NAs from the penguins_df directly without creating a new variable to store the new df",
      "metadata": {
        "trusted": true
      },
      "outputs": [],
      "execution_count": 3
    },
    {
      "id": "89669f00-10a1-471c-a67a-fbc774d5171b",
      "cell_type": "markdown",
      "source": "Extract flipper length and body mass data from the `penguins_df`",
      "metadata": {}
    },
    {
      "id": "a3e1f357041deb59",
      "cell_type": "code",
      "source": "# Extract flipper length and body mass from the penguins_df and assign it to a variable called points\npoints = penguins_df[['flipper_length_mm', 'body_mass_g']].to_numpy()\n# Note: Same like points in 2D coordinate plane with a single point (x, y) = a single penguin (flipper length, body mass)",
      "metadata": {
        "trusted": true
      },
      "outputs": [],
      "execution_count": 4
    },
    {
      "id": "9c51c5c0-2948-4f96-9185-888457efebb3",
      "cell_type": "markdown",
      "source": "## Step 3: Create a function to create random initial cluster centroids\n\nI want to to create random initial cluster centroids at the beginning.",
      "metadata": {}
    },
    {
      "id": "0ff6fed1-c226-438e-a563-2951f0ebf372",
      "cell_type": "markdown",
      "source": "First, find the min and max points. I do this to ensure that my initial cluster centroids stay within the min and max points of flipper length and body mass.",
      "metadata": {}
    },
    {
      "id": "3f91a95d-6709-4b70-a29b-9c45903f80c5",
      "cell_type": "code",
      "source": "min_point = points.min(axis=0)\nmax_point = points.max(axis=0)\n# Note: axis=0 is for searching value by column\n# Example: [(2, 5), (1, 8)]: min_point is (1, 5) and max_point is (2, 8)",
      "metadata": {
        "trusted": true
      },
      "outputs": [],
      "execution_count": 5
    },
    {
      "id": "ae048d67-7033-4f63-99de-0a86b1eaf65f",
      "cell_type": "markdown",
      "source": "Create a function to create random initial cluster centroids within the data range",
      "metadata": {}
    },
    {
      "id": "a9d0c730-1926-4c47-b14d-fe895a9da787",
      "cell_type": "code",
      "source": "# Create random centroids within the data range\ndef create_random_centroids(\n    _number_of_centroids,\n    _number_of_coordinates\n):\n    # np.random.uniform(): Return random centroids within min and max range\n    return np.random.uniform(\n        min_point,\n        max_point,\n        # size: Define the number of centroids will be created with\n        # corresponding coordinates (e.g. a point (x, y) has 2 coordinates)\n        size=(_number_of_centroids, _number_of_coordinates)\n    )",
      "metadata": {
        "trusted": true
      },
      "outputs": [],
      "execution_count": 6
    },
    {
      "id": "a3647b3d-9cf7-4b1e-bf64-39e21b4a371c",
      "cell_type": "markdown",
      "source": "## Step 4: Create a function to calculate Euclidean distance",
      "metadata": {}
    },
    {
      "id": "321a845f-d407-47ad-9577-2caf9a122937",
      "cell_type": "markdown",
      "source": "$$d(p, q) = \\sqrt{\\sum\\limits_{i=1}^{n} (q_i - p_i)^2}$$\nMarkdown formula source: https://raw.githubusercontent.com/microsoft/semantic-kernel/refs/heads/main/docs/EUCLIDEAN_DISTANCE.md",
      "metadata": {}
    },
    {
      "id": "a806075f-8b73-478b-bdfb-31d84d8de09d",
      "cell_type": "code",
      "source": "# Calculate squared euclidean distance\n# Ref: https://en.wikipedia.org/wiki/Euclidean_distance\ndef calculate_squared_euclidean_distance(_point1, _point2):\n    # Note: convert _point1 and _point2 into numpy arrays\n    point1 = np.array(_point1)\n    point2 = np.array(_point2)\n    # [4, 1] - [1, 5] = [4 - 1, 1 - 5] = [3, -4]\n    point_subtraction = point1 - point2\n    # [3, -4] ^ 2 = [3^2, -4^2] = [9, 16]\n    squared_of_point_subtraction = point_subtraction ** 2\n    # np.sum([9, 16]) = 25\n    return np.sum(squared_of_point_subtraction)\n\n# Calculate euclidean distance\ndef calculate_euclidean_distance(_point1, _point2):\n    squared_euclidean_distance = calculate_squared_euclidean_distance(\n        _point1,\n        _point2\n    )\n\n    # sqrt(25) = 5\n    return np.sqrt(squared_euclidean_distance)",
      "metadata": {
        "trusted": true
      },
      "outputs": [],
      "execution_count": 7
    },
    {
      "id": "8ec73988-6e37-473c-9751-cd9e43eb07c1",
      "cell_type": "markdown",
      "source": "## Step 5: Implement k-means clustering algorimth",
      "metadata": {}
    },
    {
      "id": "1fce50a8-2bd3-438d-a460-aa88019bd76f",
      "cell_type": "markdown",
      "source": "1. Pick random points as initial cluster centers (centroids)\n2. Assign each data point to the nearest centroid\n3. Update the centroids\n4. Repeat steps 3 and 4 until centroids don’t move",
      "metadata": {}
    },
    {
      "id": "3e12bec8-1797-4dbb-823b-d44dc8c468c5",
      "cell_type": "code",
      "source": "# k-means clustering algorithm\n# This function receives\n#   _points which is the flipper length and body mass data\n#   _number_of_clusters is k\ndef kmeans_clustering(_points, _number_of_clusters):\n    # Create random cluster centroids at the beginning\n    centroids = create_random_centroids(\n        _number_of_clusters,\n        # The shape property returns the number of rows and columns (dimension),\n        # pick the number of columns (1) as the number of coordinates\n        points.shape[1]\n    )\n\n    # Create a list to track which point is assigned to which cluster\n    #   _points.shape[0]: the number of points. Initialize all of them\n    #   with -1 since they haven't been assigned to any cluster yet.\n    point_centroid_indices = np.full(_points.shape[0], -1)\n\n    while True:\n        # Create a temporary mapper of point index and cluster centroid index\n        # for each loop\n        temp_point_centroid_indices = np.full_like(\n            point_centroid_indices, -1\n        )\n\n        # For each point and its index in the _points data\n        # enumerate(): help getting an index while looping\n        for point_index, point in enumerate(_points):\n            # Calculate the distance between the point and each centroid\n            # using Euclidean distance formula\n            distances = [\n                calculate_euclidean_distance(point, centroid)\n                for centroid in centroids\n            ]\n            # Get the cluster centroid index of the min distance\n            # np.argmin() returns the index of the minimum distance from the\n            # distances; this index also corresponds to the cluster centroid\n            # index\n            centroid_index = np.argmin(distances)\n            # Assign the cluster index to the mapper at the point index\n            temp_point_centroid_indices[point_index] \\\n                = centroid_index\n\n        # Update cluster centroids\n        new_centroids = np.zeros_like(centroids)\n        \n        # Loop through each cluster centroid index\n        for centroid_index in range(_number_of_clusters):\n            # If at least one point is mapped to this cluster centroid\n            if np.any(\n                temp_point_centroid_indices == centroid_index\n            ):\n                # Find all points assigned to this centroid\n                filtered_points = points[\n                    temp_point_centroid_indices == centroid_index\n                ]\n                # Update the centroid by calculating mean of all points assigned\n                # to it\n                # axis=0: calculate mean by column\n                new_centroids[centroid_index] = np.mean(filtered_points, axis=0)\n                # E.g. Mean of [[1, 2]\n                #               [5, 6]] is [(1 + 5) /2, (2 + 6) / 2] = [3, 4]\n\n                # Note: This will move the cluster centroid to a new location\n                # closer to all the points assigned to it.\n            # Some cluster centroids may have no points assigned to them.\n            else:\n                # Keep old centroid if no points assigned\n                new_centroids[centroid_index] = centroids[centroid_index]\n\n        # After updating all the centroids, stop if centroids do not change\n        # np.allclose(): compare if two arrays are approximately equal\n        # E.g. [1.0, 2.0, 3.0] == [1.00001, 2.00001, 3.00001] - True\n        if np.allclose(centroids, new_centroids):\n            break\n\n        # Else\n        # Update the centroids\n        centroids = new_centroids\n        # Update the main mapper\n        point_centroid_indices = temp_point_centroid_indices\n\n    return centroids, point_centroid_indices",
      "metadata": {
        "trusted": true
      },
      "outputs": [],
      "execution_count": 8
    },
    {
      "id": "6c8763ef-3766-42cc-ba1a-eab6daee0826",
      "cell_type": "markdown",
      "source": "## Step 6: Create a function to calculate the with-in cluster sum of squares (WCSS)",
      "metadata": {}
    },
    {
      "id": "8484803f-6859-4a8e-a9c2-8a45afe2077b",
      "cell_type": "code",
      "source": "# wcss: with-in cluster sum of squares\ndef calculate_total_wcss(_points, _number_of_clusters):\n    centroids, point_centroid_indices = kmeans_clustering(\n        _points, _number_of_clusters\n    )\n\n    total_wcss = 0.0\n\n    # For each point and its index in the _points data\n    for point_index, point in enumerate(_points):\n        # Find the centroid index for point_index\n        centroid_index = point_centroid_indices[point_index]\n        # Get the corresponding centroid\n        centroid = centroids[centroid_index]\n        # Calculate squared euclidean distance\n        squared_euclidean_distance = calculate_squared_euclidean_distance(\n            point,\n            centroid\n        )\n        # Add to the total_wcss\n        total_wcss += squared_euclidean_distance\n\n    return total_wcss",
      "metadata": {
        "trusted": true
      },
      "outputs": [],
      "execution_count": 9
    },
    {
      "id": "cd87b677-5c53-49a9-a2fd-227184d38a7f",
      "cell_type": "markdown",
      "source": "## Step 7: Calculate total WCSS for each number of clusters (k)",
      "metadata": {}
    },
    {
      "id": "c875c42d-a4ae-44e1-8b53-c5847e32549c",
      "cell_type": "code",
      "source": "# Define a range for the number of clusters (k)\n# From 1 to 10\nnumber_of_clusters_range = range(1, 11)\n# Calculate total with-in cluster sum of squares for each number of clusters\nwcss_values = [\n    calculate_total_wcss(points, number_of_clusters)\n    for number_of_clusters in number_of_clusters_range\n]",
      "metadata": {
        "trusted": true
      },
      "outputs": [],
      "execution_count": 10
    },
    {
      "id": "8b8a3d61-2653-47aa-8f9d-9fd45840b8a3",
      "cell_type": "markdown",
      "source": "## Step 8: Plot the Elbow Method graph",
      "metadata": {}
    },
    {
      "id": "26637882-90dc-42cb-aaf3-bd89f72b1d06",
      "cell_type": "code",
      "source": "# x: number of clusters (k) from 1 - 10\n# y: calculated total wcss for each k\n# marker: circle\n# line style: solid line\nplt.plot(number_of_clusters_range, wcss_values, marker='o', linestyle='-')\n# Graph title\nplt.title('Find the optimal k using Elbow method')\n# x-axis title\nplt.xlabel('Number of clusters (k)')\n# y-axis title\nplt.ylabel('Total with-in cluster sum of squares (WCSS)')\n# Set ticks from 1 to 10 with step 1\nplt.xticks(np.arange(1, 11, 1))\n# Show the graph\nplt.show()",
      "metadata": {
        "trusted": true
      },
      "outputs": [
        {
          "output_type": "display_data",
          "data": {
            "text/plain": "<Figure size 640x480 with 1 Axes>",
            "image/png": "[encoded data removed]"
          },
          "metadata": {}
        }
      ],
      "execution_count": 11
    },
    {
      "id": "976714be-5373-42f1-8a6a-d2c51a21dbd0",
      "cell_type": "markdown",
      "source": "We can see that k = 3 is the \"elbow point\", where the total WCSS stops decreasing sharply.",
      "metadata": {}
    }
  ]
}